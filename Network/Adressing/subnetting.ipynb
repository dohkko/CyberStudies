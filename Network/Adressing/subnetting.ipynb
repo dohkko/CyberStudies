{
    "cells": [
        {
            "cell_type": "markdown",
            "metadata": {},
            "source": "## Sub-redes\nDividir uma um intervalo de endere\u00e7os IP em v\u00e1rios intervalos menores \u00e9 conhecido como _sub-redes_.\n### Exemplo 1\n- Dado a rede 192.168.1.0/24, dividir a mesma em um duas _sub-redes_.\n> Para dividir tal rede em duas sub-redes, deve-se indentificar a quantidade de bits destinados aos hosts, nesse caso,8. Se \u00e9 pra dividir em duas redes menores, a quantidade de bits vai diminuir, de 8 pra 7. Com 7 bits pra host, temos 2^7 = 128 ips pra cada rede. Sendo as redes *A* = 192.168.1.0/25 e *B* = 192.168.1.128/25."
        },
        {
            "cell_type": "code",
            "execution_count": 14,
            "metadata": {
                "trusted": true
            },
            "outputs": [
                {
                    "name": "stdout",
                    "output_type": "stream",
                    "text": "192.168.1.0/25\n192.168.1.128/25\n"
                }
            ],
            "source": "from ipaddress import IPv4Network\nnet = IPv4Network(\"192.168.1.0/24\")\nfor sn in net.subnets():\n    print(sn)\n# Verificando as sub-redes em uma rede."
        },
        {
            "cell_type": "markdown",
            "metadata": {},
            "source": "Nem sempre as sub-redes v\u00e3o ser representas no formato CIDR, muitas delas s\u00e3o representadas em sua mascara de rede em seu formato decimal. Para representar corretamente, indentifique qual octeto foi alterado, neste caso o ultimo octeto, indentifique a quantidade de bits no octeto, s\u00e3o 7, 2^7 = 128. Ficaria algo como : 255.255.255.128"
        },
        {
            "cell_type": "code",
            "execution_count": 15,
            "metadata": {
                "trusted": true
            },
            "outputs": [
                {
                    "data": {
                        "text/plain": "IPv4Address('255.255.255.128')"
                    },
                    "execution_count": 15,
                    "metadata": {},
                    "output_type": "execute_result"
                }
            ],
            "source": "sn.netmask\n\"\"\"\nComo \u00e9 um generator, ele pega o ultimo indice do generator, \nou seja a ultima sub-rede.\n\"\"\""
        },
        {
            "cell_type": "markdown",
            "metadata": {},
            "source": "### Exemplo 2\n- Dado 172.0.0.0/16 divida tal rede em _sub-redes_.\n> Como visto anteriormente, deve-se indentificar a quantidade de bits usados pra hosts, s\u00e3o 16, ou seja 2 octetos. 2^16 = *65536* endere\u00e7os."
        },
        {
            "cell_type": "code",
            "execution_count": 26,
            "metadata": {
                "trusted": true
            },
            "outputs": [
                {
                    "ename": "TypeError",
                    "evalue": "all() takes exactly one argument (0 given)",
                    "output_type": "error",
                    "traceback": [
                        "\u001b[0;31m---------------------------------------------------------------------------\u001b[0m",
                        "\u001b[0;31mTypeError\u001b[0m                                 Traceback (most recent call last)",
                        "Cell \u001b[0;32mIn[26], line 3\u001b[0m\n\u001b[1;32m      1\u001b[0m \u001b[38;5;28;01mfrom\u001b[39;00m \u001b[38;5;21;01mipaddress\u001b[39;00m \u001b[38;5;28;01mimport\u001b[39;00m IPv4Network\n\u001b[1;32m      2\u001b[0m netc \u001b[38;5;241m=\u001b[39m IPv4Network(\u001b[38;5;124m\"\u001b[39m\u001b[38;5;124m172.16.0.0/16\u001b[39m\u001b[38;5;124m\"\u001b[39m)\n\u001b[0;32m----> 3\u001b[0m \u001b[38;5;28;01mfor\u001b[39;00m snc \u001b[38;5;129;01min\u001b[39;00m netc\u001b[38;5;241m.\u001b[39msubnets(\u001b[38;5;28;43mall\u001b[39;49m\u001b[43m(\u001b[49m\u001b[43m)\u001b[49m):\n\u001b[1;32m      4\u001b[0m     \u001b[38;5;28mprint\u001b[39m(snc)\n",
                        "\u001b[0;31mTypeError\u001b[0m: all() takes exactly one argument (0 given)"
                    ]
                }
            ],
            "source": "from ipaddress import IPv4Network\nnetc = IPv4Network(\"172.16.0.0/16\")\nfor snc in netc.subnets():\n    print(snc)"
        }
    ],
    "metadata": {
        "kernelspec": {
            "display_name": "Python 3 (ipykernel)",
            "language": "python",
            "name": "python3"
        },
        "language_info": {
            "codemirror_mode": {
                "name": "ipython",
                "version": 3
            },
            "file_extension": ".py",
            "mimetype": "text/x-python",
            "name": "python",
            "nbconvert_exporter": "python",
            "pygments_lexer": "ipython3",
            "version": "3.10.10"
        }
    },
    "nbformat": 4,
    "nbformat_minor": 5
}