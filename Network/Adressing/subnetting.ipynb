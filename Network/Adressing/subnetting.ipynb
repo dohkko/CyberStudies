{
    "cells": [
        {
            "cell_type": "markdown",
            "metadata": {},
            "source": "## Sub-redes\nDividir uma um intervalo de endere\u00e7os IP em v\u00e1rios intervalos menores \u00e9 conhecido como _sub-redes_.\n### Exemplo 1\n- Dado a rede 192.168.1.0/24, dividir a mesma em um duas _sub-redes_.\n> Para dividir tal rede em duas sub-redes, deve-se indentificar a quantidade de bits destinados aos hosts, nesse caso,8. Se \u00e9 pra dividir em duas redes menores, a quantidade de bits vai diminuir, de 8 pra 7. Com 7 bits pra host, temos 2^7 = 128 ips pra cada rede. Sendo as redes *A* = 192.168.1.0/25 e *B* = 192.168.1.128/25."
        },
        {
            "cell_type": "code",
            "execution_count": null,
            "metadata": {
                "trusted": true
            },
            "outputs": [],
            "source": "from ipaddress import IPv4Network\nnet = IPv4Network(\"192.168.1.0/24\")\nfor sn in net.subnets():\n    print(sn)\n# Verificando as sub-redes em uma rede."
        },
        {
            "cell_type": "markdown",
            "metadata": {},
            "source": "Nem sempre as sub-redes v\u00e3o ser representas no formato CIDR, muitas delas s\u00e3o representadas em sua mascara de rede em seu formato decimal. Para representar corretamente, indentifique qual octeto foi alterado, neste caso o ultimo octeto, indentifique a quantidade de bits no octeto, s\u00e3o 7, 2^7 = 128. Ficaria algo como : 255.255.255.128"
        },
        {
            "cell_type": "code",
            "execution_count": null,
            "metadata": {
                "trusted": true
            },
            "outputs": [],
            "source": "sn.netmask\n\"\"\"\nComo \u00e9 um generator, ele pega o ultimo indice do generator, \nou seja a ultima sub-rede.\n\"\"\""
        },
        {
            "cell_type": "markdown",
            "metadata": {},
            "source": "### Exemplo 2\n- Dado 172.16.0.0/16 divida tal rede em _sub-redes_.\n> Como visto anteriormente, deve-se indentificar a quantidade de bits usados pra hosts, s\u00e3o 16, ou seja 2 octetos. 2^16 = *65536* endere\u00e7os. A partir disto a mascara de sub-rede seria algo como, 172.16.0.0/17, assim usando mais 1 bit pra rede, e com isto, possuindo 15 bits pra hosts, 7 no 3\u00ba octeto e 8 no 4\u00ba octeto. Logo 2^7 = 128."
        },
        {
            "cell_type": "code",
            "execution_count": null,
            "metadata": {
                "trusted": true
            },
            "outputs": [],
            "source": "from ipaddress import IPv4Network\nnetc = IPv4Network(\"172.16.0.0/16\")\nfor snc in netc.subnets():\n    print(f\"O endere\u00e7o inicial da rede \u00e9:{snc}\") # Endere\u00e7o\n    print(f\"O endere\u00e7o final da rede \u00e9:{snc.broadcast_address}\") #Broadcast"
        },
        {
            "cell_type": "markdown",
            "metadata": {},
            "source": "### Exemplo 3\n- Dado 10.0.0.0/28 divida em _sub-redes_.\n>  Na nota\u00e7\u00e3o de sub-redes pegamos emprestado mais 1 bit,logo s\u00e3o 29 bits, ultlizados para rede, somente 3 para hosts, logo 2^8 = 8 endere\u00e7os por sub-rede. Sua mascara de rede em decimal seria : *255.255.255.248*. A quantidade de maxima de _sub-redes_ pode ser descoberta, calculando o n de bits extras pra rede, aqui foram 5, j\u00e1 que o padr\u00e3o mais pr\u00f3ximo \u00e9 /24 e foi usado /29 pra sub-rede, 2^5 = 32 sub sub-redes possiveis."
        },
        {
            "cell_type": "code",
            "execution_count": null,
            "metadata": {
                "trusted": true
            },
            "outputs": [],
            "source": "neta = IPv4Network(\"10.0.0.0/28\")\n\nfor sna in neta.subnets(prefixlen_diff=1):\n    print(f\"O endere\u00e7o inicial da rede \u00e9:{sna}\") # Endere\u00e7o\n    print(f\"O endere\u00e7o final da rede \u00e9:{sna.broadcast_address}\") #Broadcast\n\namount = 2**(sna.prefixlen - 24)\nprint(f\"A quantidade de sub-redes totais \u00e9: {amount} \")"
        },
        {
            "cell_type": "markdown",
            "metadata": {},
            "source": "\"\"\"\n### Exemplo 4\n> Dado uma esta\u00e7\u00e3o com com IP 192.168.0.0 e mascara de rede 255.255.255.224, responda.\n- A qual rede o IP pertence?\n> Bom, inicialmente, resolvi converter o formato decimal da mascara, para formato CIDR. Usando python, podemos conveter facilmente. \n\n\"\"\""
        },
        {
            "cell_type": "code",
            "execution_count": null,
            "metadata": {
                "trusted": true
            },
            "outputs": [],
            "source": "from ipaddress import IPv4Network\nIPv4Network(\"192.168.0.0/255.255.255.224\")"
        },
        {
            "cell_type": "markdown",
            "metadata": {},
            "source": "\"\"\"\n- Qual o primeiro IP v\u00e1lido da rede?\n\n\"\"\""
        },
        {
            "cell_type": "code",
            "execution_count": null,
            "metadata": {
                "trusted": true
            },
            "outputs": [],
            "source": "net = IPv4Network(\"192.168.0.0/27\")\nfor sn in net.subnets(prefixlen_diff=0):\n    print(f\"O endere\u00e7o inicial da rede \u00e9:{sn}\") # Endere\u00e7o"
        },
        {
            "cell_type": "markdown",
            "metadata": {},
            "source": "- Qual o ultimo IP v\u00e1lido da rede?\n- Qual o Broadcast da rede?"
        },
        {
            "cell_type": "code",
            "execution_count": null,
            "metadata": {
                "trusted": true
            },
            "outputs": [],
            "source": "print(f\"O ultimo IP v\u00e1lido e Broadcast da rede \u00e9:{sn.broadcast_address}\")"
        },
        {
            "cell_type": "markdown",
            "metadata": {},
            "source": "### Exemplo 5\n![By Kretcheu](https://raw.githubusercontent.com/dohkko/CyberStudies/master/Network/Adressing/assets/Screenshot_2023-05-10_09-54-09.png)\n\n> Dado **SP=400** **RJ=200** e **MG=100** tem que se distribuir da melhor forma possivel de acordo com a menor quantidade possivel de hosts. Onde  IP base \u00e9 10.0.0.0, assim dado a quantidade de host em pot\u00eancia de base de 2, temos:\n- SP = 2^9 = 512 hosts, onde /23"
        },
        {
            "cell_type": "code",
            "execution_count": null,
            "metadata": {
                "trusted": true
            },
            "outputs": [],
            "source": "from ipaddress import IPv4Network\nnetsp = IPv4Network(\"10.0.0.0/23\")\nfor snsp in netsp.subnets(prefixlen_diff=0):\n    print(f\"O endre\u00e7o inicial da rede \u00e9: {snsp}\")\n    print(f\"O endre\u00e7o Broadcast da rede \u00e9: {snsp.broadcast_address}\")"
        },
        {
            "cell_type": "markdown",
            "metadata": {},
            "source": "- RJ = 2^8 = 256 hosts, onde /24"
        },
        {
            "cell_type": "code",
            "execution_count": null,
            "metadata": {
                "trusted": true
            },
            "outputs": [],
            "source": "netrj = IPv4Network(\"10.0.2.0/24\")\nfor snrj in netrj.subnets(prefixlen_diff=0):\n    print(f\"O endre\u00e7o inicial da rede \u00e9: {snrj}\")\n    print(f\"O endre\u00e7o Broadcast da rede \u00e9: {snrj.broadcast_address}\")"
        },
        {
            "cell_type": "markdown",
            "metadata": {},
            "source": "- MG = 2^7 = 128 hosts onde /25"
        },
        {
            "cell_type": "code",
            "execution_count": null,
            "metadata": {
                "trusted": true
            },
            "outputs": [],
            "source": "netmg = IPv4Network(\"10.0.3.0/25\")\nfor snmg in netmg.subnets(prefixlen_diff=0):\n\n    print(f\"O endre\u00e7o inicial da rede \u00e9: {snmg}\")\n    print(f\"O endre\u00e7o Broadcast da rede \u00e9: {snmg.broadcast_address}\")"
        },
        {
            "cell_type": "markdown",
            "metadata": {},
            "source": "### Exemplo 6\n\n![HTB](https://raw.githubusercontent.com/dohkko/CyberStudies/master/Network/Adressing/assets/Screenshot_2023-05-10_14-56-08.png)"
        },
        {
            "cell_type": "code",
            "execution_count": null,
            "metadata": {
                "trusted": true
            },
            "outputs": [],
            "source": "from ipaddress import IPv4Network\nnet = IPv4Network(\"10.200.20.0/27\")\n\nsubnets = (n for n in net.subnets(prefixlen_diff=2))\n\nfor subnet in subnets:\n    print(f\"Sub rede {subnet} \\t Broadcast {subnet.broadcast_address}\")"
        }
    ],
    "metadata": {
        "kernelspec": {
            "display_name": "Python 3 (ipykernel)",
            "language": "python",
            "name": "python3"
        },
        "language_info": {
            "codemirror_mode": {
                "name": "ipython",
                "version": 3
            },
            "file_extension": ".py",
            "mimetype": "text/x-python",
            "name": "python",
            "nbconvert_exporter": "python",
            "pygments_lexer": "ipython3",
            "version": "3.11.3"
        }
    },
    "nbformat": 4,
    "nbformat_minor": 5
}