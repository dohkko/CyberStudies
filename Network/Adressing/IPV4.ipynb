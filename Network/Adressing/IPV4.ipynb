{
    "cells": [
        {
            "cell_type": "markdown",
            "metadata": {},
            "source": "## Endere\u00e7amento\nO endere\u00e7o ip possui algumas caracteristicas como:\n\n> - Identificar uma rede especifica\n> - Identificar o host dentro dessa rede\n> - Formado por quatro octetos, de 1 byte cada, onde 1 byte corresponde a 8 bits, logo 32 bits.\n> Onde este octetos podem ser dividos em endere\u00e7os de rede e endere\u00e7os de host.\nUsando o modulo ipadress do python podemos estudar na pr\u00e1tica o IP, abaixo vou descrever alguns exemplos."
        },
        {
            "cell_type": "code",
            "execution_count": null,
            "metadata": {
                "trusted": true
            },
            "outputs": [],
            "source": "from ipaddress import IPv4Address\n\naddr = IPv4Address(\"192.168.1.20\")\nint(addr)\n# Aqui estamos convertendo o endere\u00e7o de IP j\u00e1 usado para sua forma inteira"
        },
        {
            "cell_type": "code",
            "execution_count": null,
            "metadata": {
                "trusted": true
            },
            "outputs": [],
            "source": "addr.packed\n# O formato desse IP em pacote."
        },
        {
            "cell_type": "code",
            "execution_count": null,
            "metadata": {
                "trusted": true
            },
            "outputs": [],
            "source": "f'{int(addr):08b}'\n#Uma simples representa\u00e7\u00e3o bin\u00e1ria desse ip"
        },
        {
            "cell_type": "code",
            "execution_count": null,
            "metadata": {
                "trusted": true
            },
            "outputs": [],
            "source": "print( '.'.join([bin(int(x)+256)[3:] for x in str(addr).split('.')]))\n#Uma representa\u00e7\u00e3o detalhada, separando os octetos por \".\""
        },
        {
            "cell_type": "markdown",
            "metadata": {},
            "source": "## Nota\u00e7\u00e3o CIDR (Classes Inter-Domain Routing)\n\nNa nota\u00e7\u00e3o CIDR uma rede \u00e9 definada usando seu endere\u00e7o de rede, seguido de um prefixo, algo como **endere\u00e7o_rede/prefixo**, por exemplo : *192.4.2.0/24* tal nota\u00e7\u00e3o denota que 24 bits s\u00e3o usados para rede e 8 para o host, com isto o numero de hosts disponiveis nessa rede seria 256, ou seja 8^2."
        },
        {
            "cell_type": "code",
            "execution_count": null,
            "metadata": {
                "trusted": true
            },
            "outputs": [],
            "source": "from ipaddress import IPv4Network \nnet = IPv4Network(\"192.4.2.0/24\") #Nota\u00e7\u00e3o CIDR da mascara\nnet.num_addresses"
        },
        {
            "cell_type": "code",
            "execution_count": null,
            "metadata": {
                "trusted": true
            },
            "outputs": [],
            "source": "net.prefixlen\n\n# Aqui conseguimos verificar o prefixo da rede."
        },
        {
            "cell_type": "markdown",
            "metadata": {},
            "source": "> Para descobrir se um endere\u00e7o N faz parte da rede, neste caso analisa-se os tr\u00eas primeiros octetos, os 24 bits, se suas nota\u00e7\u00f5es em bin\u00e1rio coinciderem os mesmos fazem parte da rede."
        },
        {
            "cell_type": "code",
            "execution_count": null,
            "metadata": {
                "trusted": true
            },
            "outputs": [],
            "source": "from ipaddress import IPv4Network\nIPv4Address(\"192.4.2.12\") in net"
        },
        {
            "cell_type": "markdown",
            "metadata": {},
            "source": "> Assim como o IP, a mascara de rede pode ser representada com nota\u00e7\u00e3o CIDR, onde **mascara/prefixo**. Outra maneira de representar uma mascara de rede, \u00e9 sua representa\u00e7\u00e3o decimal, a partir de bin\u00e1rios. OS octetos que representam a rede s\u00e3o sinalizados com o n\u00famero _1_, <sub>nota\u00e7\u00e3o bin\u00e1ria</sub> e os bits marcados para o host s\u00e3o sinalizados com o n\u00famero _0_, assim convertendo o numero _binario_ em _decimal_ obtendo assim a representa\u00e7\u00e3o."
        },
        {
            "cell_type": "code",
            "execution_count": null,
            "metadata": {
                "trusted": true
            },
            "outputs": [],
            "source": "#Observe aqui que a classe apresentado \u00e9 IPv4Network\n\nfrom ipaddress import IPv4Address\n\n\nnetd = IPv4Network(\"192.4.2.0/255.255.255.0\") #Nota\u00e7\u00e3o decimal da mascara. \n\nnet, netd\n\n# Observe que apesar da mascara ser passada em decimal, sua sa\u00edda \u00e9 em nota\u00e7\u00e3o CIDR."
        },
        {
            "cell_type": "markdown",
            "metadata": {},
            "source": "![Tabela by HTB.](https://raw.githubusercontent.com/jrona1do/CyberStudies/master/Network/Adressing/assets/Screenshot_2023-05-02_01-48-09.png)\n\n\n\n> Como visto na imagem acima o comprimento de cada prefixo s\u00e3o multiplos de 8 na maioria das vezes. No entanto qualquer numero inteiro entre 0 e 32 s\u00e3o validos, embora n\u00e3o seja comum.\n\n\n\n\n## Endere\u00e7os reservados\n\nH\u00e1 dois endere\u00e7os adcionais reservados quando trata-se de IP, e s\u00e3o eles: endere\u00e7o de rede endere\u00e7o de brodcast.\n\n> - Broadcast: O endere\u00e7o de broadcast tem como fun\u00e7\u00e3o contectar todos dispostivos em um rede, atrav\u00e9s de uma mensagem que \u00e9 transmitida a todos os participantes, e n\u00e3o requer resposta. Com isto um host envia um pacote de dados para todos os outros participantes da rede simultaneamente, e com isso informa seu endere\u00e7o e que todos que receberam este pacote podem usar este ip para contat\u00e1-lo. Geralmente o ultimo endere\u00e7o \u00e9 usado para endere\u00e7o de broadcast."
        },
        {
            "cell_type": "code",
            "execution_count": null,
            "metadata": {
                "trusted": true
            },
            "outputs": [],
            "source": "net.broadcast_address"
        }
    ],
    "metadata": {
        "kernelspec": {
            "display_name": "Python 3 (ipykernel)",
            "language": "python",
            "name": "python3"
        },
        "language_info": {
            "codemirror_mode": {
                "name": "ipython",
                "version": 3
            },
            "file_extension": ".py",
            "mimetype": "text/x-python",
            "name": "python",
            "nbconvert_exporter": "python",
            "pygments_lexer": "ipython3",
            "version": "3.10.10"
        }
    },
    "nbformat": 4,
    "nbformat_minor": 5
}